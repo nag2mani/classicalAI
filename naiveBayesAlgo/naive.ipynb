{
 "cells": [
  {
   "cell_type": "code",
   "execution_count": 1,
   "metadata": {},
   "outputs": [],
   "source": [
    "import pandas as pd\n",
    "import csv"
   ]
  },
  {
   "cell_type": "code",
   "execution_count": null,
   "metadata": {},
   "outputs": [],
   "source": [
    "import nltk\n",
    "from nltk import word_tokenize\n",
    "from nltk import sent_tokenize\n",
    "nltk.download('all')"
   ]
  },
  {
   "cell_type": "code",
   "execution_count": 3,
   "metadata": {},
   "outputs": [],
   "source": [
    "# # Converting .txt files to .csv files. It will run only one time.\n",
    "\n",
    "# with open('SMSSpamCollection.txt', 'r') as text_file:\n",
    "#     lines = text_file.readlines()\n",
    "\n",
    "# # Open a CSV file for writing\n",
    "# with open('SMSSpamCollection.csv', 'w', newline='') as csv_file:\n",
    "#     csv_writer = csv.writer(csv_file)\n",
    "\n",
    "#     # Iterate through each line in the text file\n",
    "#     for line in lines:\n",
    "#         # Split the line into words\n",
    "#         words = line.strip().split()\n",
    "\n",
    "#         # Check if there are at least two words in the line\n",
    "#         if len(words) >= 2:\n",
    "#             # Write the first word in the first column and the rest in the second column\n",
    "#             csv_writer.writerow([words[0], ' '.join(words[1:])])\n",
    "#         else:\n",
    "#             # Handle lines with less than two words, e.g., if the line is empty or contains only one word\n",
    "#             # In this example, you can choose to skip or handle these lines as needed\n",
    "#             pass\n"
   ]
  },
  {
   "cell_type": "code",
   "execution_count": 34,
   "metadata": {},
   "outputs": [],
   "source": [
    "df = pd.read_csv('SMSSpamCollection.csv')"
   ]
  },
  {
   "cell_type": "code",
   "execution_count": 35,
   "metadata": {},
   "outputs": [
    {
     "name": "stdout",
     "output_type": "stream",
     "text": [
      "Length of spam data : 747\n",
      "Length of ham data : 4827\n",
      "Length of ham data : 747\n"
     ]
    }
   ],
   "source": [
    "spam_df = df[df['class'] == 'spam']\n",
    "print(\"Length of spam data :\", len(spam_df))\n",
    "\n",
    "ham_df = df[df['class'] == 'ham']\n",
    "print(\"Length of ham data :\", len(ham_df))\n",
    "\n",
    "new_ham_df = ham_df.sample(n=747)\n",
    "print(\"Length of New ham data :\", len(new_ham_df))\n",
    "\n",
    "#Made both ham and spam in equal numbers."
   ]
  },
  {
   "cell_type": "code",
   "execution_count": 39,
   "metadata": {},
   "outputs": [],
   "source": [
    "# Merge the two DataFrames vertically (concatenate rows).\n",
    "merged_df = pd.concat([spam_df, new_ham_df], ignore_index=True)\n",
    "shuffled_df = merged_df.sample(frac=1.0, random_state=40, ignore_index=True)\n"
   ]
  },
  {
   "cell_type": "code",
   "execution_count": null,
   "metadata": {},
   "outputs": [],
   "source": []
  },
  {
   "cell_type": "markdown",
   "metadata": {},
   "source": []
  }
 ],
 "metadata": {
  "kernelspec": {
   "display_name": "Python 3",
   "language": "python",
   "name": "python3"
  },
  "language_info": {
   "codemirror_mode": {
    "name": "ipython",
    "version": 3
   },
   "file_extension": ".py",
   "mimetype": "text/x-python",
   "name": "python",
   "nbconvert_exporter": "python",
   "pygments_lexer": "ipython3",
   "version": "3.12.0"
  }
 },
 "nbformat": 4,
 "nbformat_minor": 2
}
