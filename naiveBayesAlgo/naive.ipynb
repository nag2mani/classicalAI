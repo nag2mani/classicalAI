{
 "cells": [
  {
   "cell_type": "code",
   "execution_count": 1,
   "metadata": {},
   "outputs": [],
   "source": [
    "import pandas as pd\n",
    "import csv"
   ]
  },
  {
   "cell_type": "code",
   "execution_count": null,
   "metadata": {},
   "outputs": [],
   "source": [
    "import nltk\n",
    "from nltk import word_tokenize\n",
    "from nltk import sent_tokenize\n",
    "nltk.download('all')"
   ]
  },
  {
   "cell_type": "code",
   "execution_count": 3,
   "metadata": {},
   "outputs": [],
   "source": [
    "# # Converting .txt files to .csv files. It will run only one time.\n",
    "\n",
    "# with open('SMSSpamCollection.txt', 'r') as text_file:\n",
    "#     lines = text_file.readlines()\n",
    "\n",
    "# # Open a CSV file for writing\n",
    "# with open('SMSSpamCollection.csv', 'w', newline='') as csv_file:\n",
    "#     csv_writer = csv.writer(csv_file)\n",
    "\n",
    "#     # Iterate through each line in the text file\n",
    "#     for line in lines:\n",
    "#         # Split the line into words\n",
    "#         words = line.strip().split()\n",
    "\n",
    "#         # Check if there are at least two words in the line\n",
    "#         if len(words) >= 2:\n",
    "#             # Write the first word in the first column and the rest in the second column\n",
    "#             csv_writer.writerow([words[0], ' '.join(words[1:])])\n",
    "#         else:\n",
    "#             # Handle lines with less than two words, e.g., if the line is empty or contains only one word\n",
    "#             # In this example, you can choose to skip or handle these lines as needed\n",
    "#             pass\n"
   ]
  },
  {
   "cell_type": "code",
   "execution_count": 34,
   "metadata": {},
   "outputs": [],
   "source": [
    "df = pd.read_csv('SMSSpamCollection.csv')"
   ]
  },
  {
   "cell_type": "code",
   "execution_count": 35,
   "metadata": {},
   "outputs": [
    {
     "name": "stdout",
     "output_type": "stream",
     "text": [
      "Length of spam data : 747\n",
      "Length of ham data : 4827\n",
      "Length of ham data : 747\n"
     ]
    }
   ],
   "source": [
    "spam_df = df[df['class'] == 'spam']\n",
    "print(\"Length of spam data :\", len(spam_df))\n",
    "\n",
    "ham_df = df[df['class'] == 'ham']\n",
    "print(\"Length of ham data :\", len(ham_df))\n",
    "\n",
    "new_ham_df = ham_df.sample(n=747)\n",
    "print(\"Length of New ham data :\", len(new_ham_df))\n",
    "\n",
    "#Made both ham and spam in equal numbers."
   ]
  },
  {
   "cell_type": "code",
   "execution_count": 48,
   "metadata": {},
   "outputs": [
    {
     "data": {
      "text/html": [
       "<div>\n",
       "<style scoped>\n",
       "    .dataframe tbody tr th:only-of-type {\n",
       "        vertical-align: middle;\n",
       "    }\n",
       "\n",
       "    .dataframe tbody tr th {\n",
       "        vertical-align: top;\n",
       "    }\n",
       "\n",
       "    .dataframe thead th {\n",
       "        text-align: right;\n",
       "    }\n",
       "</style>\n",
       "<table border=\"1\" class=\"dataframe\">\n",
       "  <thead>\n",
       "    <tr style=\"text-align: right;\">\n",
       "      <th></th>\n",
       "      <th>class</th>\n",
       "      <th>text</th>\n",
       "    </tr>\n",
       "  </thead>\n",
       "  <tbody>\n",
       "    <tr>\n",
       "      <th>0</th>\n",
       "      <td>ham</td>\n",
       "      <td>Gudnite....tc...practice going on</td>\n",
       "    </tr>\n",
       "    <tr>\n",
       "      <th>1</th>\n",
       "      <td>ham</td>\n",
       "      <td>Ranjith cal drpd Deeraj and deepak 5min hold</td>\n",
       "    </tr>\n",
       "    <tr>\n",
       "      <th>2</th>\n",
       "      <td>spam</td>\n",
       "      <td>Phony £350 award - Todays Voda numbers ending ...</td>\n",
       "    </tr>\n",
       "    <tr>\n",
       "      <th>3</th>\n",
       "      <td>spam</td>\n",
       "      <td>Text &amp; meet someone sexy today. U can find a d...</td>\n",
       "    </tr>\n",
       "    <tr>\n",
       "      <th>4</th>\n",
       "      <td>ham</td>\n",
       "      <td>I'm not sure if its still available though</td>\n",
       "    </tr>\n",
       "    <tr>\n",
       "      <th>...</th>\n",
       "      <td>...</td>\n",
       "      <td>...</td>\n",
       "    </tr>\n",
       "    <tr>\n",
       "      <th>1489</th>\n",
       "      <td>ham</td>\n",
       "      <td>Infact happy new year. How are you where are y...</td>\n",
       "    </tr>\n",
       "    <tr>\n",
       "      <th>1490</th>\n",
       "      <td>ham</td>\n",
       "      <td>That way transport is less problematic than on...</td>\n",
       "    </tr>\n",
       "    <tr>\n",
       "      <th>1491</th>\n",
       "      <td>spam</td>\n",
       "      <td>Free video camera phones with Half Price line ...</td>\n",
       "    </tr>\n",
       "    <tr>\n",
       "      <th>1492</th>\n",
       "      <td>ham</td>\n",
       "      <td>Did u got that persons story</td>\n",
       "    </tr>\n",
       "    <tr>\n",
       "      <th>1493</th>\n",
       "      <td>ham</td>\n",
       "      <td>Omw back to tampa from west palm, you hear wha...</td>\n",
       "    </tr>\n",
       "  </tbody>\n",
       "</table>\n",
       "<p>1494 rows × 2 columns</p>\n",
       "</div>"
      ],
      "text/plain": [
       "     class                                               text\n",
       "0      ham                  Gudnite....tc...practice going on\n",
       "1      ham       Ranjith cal drpd Deeraj and deepak 5min hold\n",
       "2     spam  Phony £350 award - Todays Voda numbers ending ...\n",
       "3     spam  Text & meet someone sexy today. U can find a d...\n",
       "4      ham         I'm not sure if its still available though\n",
       "...    ...                                                ...\n",
       "1489   ham  Infact happy new year. How are you where are y...\n",
       "1490   ham  That way transport is less problematic than on...\n",
       "1491  spam  Free video camera phones with Half Price line ...\n",
       "1492   ham                       Did u got that persons story\n",
       "1493   ham  Omw back to tampa from west palm, you hear wha...\n",
       "\n",
       "[1494 rows x 2 columns]"
      ]
     },
     "execution_count": 48,
     "metadata": {},
     "output_type": "execute_result"
    }
   ],
   "source": [
    "# Merge the two DataFrames vertically (concatenate rows).\n",
    "merged_df = pd.concat([spam_df, new_ham_df], ignore_index=True)\n",
    "shuffled_df = merged_df.sample(frac=1.0, random_state=10, ignore_index=True)\n",
    "shuffled_df\n"
   ]
  },
  {
   "cell_type": "code",
   "execution_count": 53,
   "metadata": {},
   "outputs": [],
   "source": [
    "Training_data = shuffled_df[0:1135]   # It is 76% data of 1494. (Total 1135 rows)\n",
    "Testing_data = shuffled_df[1135: 1494]   # It is 24% data of 1494. (Total 359 rows)"
   ]
  },
  {
   "cell_type": "code",
   "execution_count": null,
   "metadata": {},
   "outputs": [],
   "source": []
  },
  {
   "cell_type": "code",
   "execution_count": null,
   "metadata": {},
   "outputs": [],
   "source": []
  },
  {
   "cell_type": "markdown",
   "metadata": {},
   "source": []
  }
 ],
 "metadata": {
  "kernelspec": {
   "display_name": "Python 3",
   "language": "python",
   "name": "python3"
  },
  "language_info": {
   "codemirror_mode": {
    "name": "ipython",
    "version": 3
   },
   "file_extension": ".py",
   "mimetype": "text/x-python",
   "name": "python",
   "nbconvert_exporter": "python",
   "pygments_lexer": "ipython3",
   "version": "3.12.0"
  }
 },
 "nbformat": 4,
 "nbformat_minor": 2
}
