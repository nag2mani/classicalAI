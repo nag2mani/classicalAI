{
  "cells": [
    {
      "cell_type": "markdown",
      "metadata": {},
      "source": [
        "# Tic-Tac-Toe Using Reinforcement learning.\n",
        "\n",
        "Rule:\n",
        "1. Your Turn.\n",
        "2. It will ask for input row number from 0 to 8\n",
        "3. Computer's Turn.\n",
        "\n",
        "This will happen repeatedly.\n",
        "\n",
        "\n",
        "Note: This code is inspired by bharat and Kirtan."
      ]
    },
    {
      "cell_type": "code",
      "execution_count": 2,
      "metadata": {
        "id": "pRmcRgesgJrM"
      },
      "outputs": [],
      "source": [
        "import random"
      ]
    },
    {
      "cell_type": "code",
      "execution_count": 3,
      "metadata": {
        "id": "nW_0yALC8q0k"
      },
      "outputs": [],
      "source": [
        "def list_to_string(lst):\n",
        "\n",
        "    \"\"\"It will each list element into string\"\"\"\n",
        "    \n",
        "    string=''\n",
        "    for i in lst:\n",
        "        string+=i\n",
        "    return string"
      ]
    },
    {
      "cell_type": "code",
      "execution_count": 4,
      "metadata": {
        "id": "czZ1ikB18q0m"
      },
      "outputs": [],
      "source": [
        "def player_turn(state):\n",
        "\n",
        "    \"\"\" It will return the trun of players\"\"\"\n",
        "    \n",
        "    num = state.count('-')\n",
        "    if num % 2 == 0:\n",
        "        return 'O'\n",
        "    else:\n",
        "        return 'X'"
      ]
    },
    {
      "cell_type": "code",
      "execution_count": 5,
      "metadata": {
        "id": "zgtboLzg8q0m"
      },
      "outputs": [],
      "source": [
        "def is_terminal(state):\n",
        "\n",
        "    \"\"\"\n",
        "    It will check, If it is terminal satte then it will return two parameter True and 1 in case of player X \n",
        "    and -1 in case of player O. Otherwise False.\n",
        "    \"\"\"\n",
        "    \n",
        "    if state[0] == state[1] == state[2] == 'X':\n",
        "        return True, 1\n",
        "    elif state[3] == state[4] == state[5] == 'X':\n",
        "        return True, 1\n",
        "    elif state[6] == state[7] == state[8] == 'X':\n",
        "        return True, 1\n",
        "    elif state[0] == state[3] == state[6] == 'X':\n",
        "        return True, 1\n",
        "    elif state[1] == state[4] == state[7] == 'X':\n",
        "        return True, 1\n",
        "    elif state[2] == state[5] == state[8] == 'X':\n",
        "        return True, 1\n",
        "    elif state[0] == state[4] == state[8] == 'X':\n",
        "        return True, 1\n",
        "    elif state[2] == state[4] == state[6] == 'X':\n",
        "        return True, 1\n",
        "    elif state[0] == state[1] == state[2] == 'O':\n",
        "        return True, -1\n",
        "    elif state[3] == state[4] == state[5] == 'O':\n",
        "        return True, -1\n",
        "    elif state[6] == state[7] == state[8] == 'O':\n",
        "        return True, -1\n",
        "    elif state[0] == state[3] == state[6] == 'O':\n",
        "        return True, -1\n",
        "    elif state[1] == state[4] == state[7] == 'O':\n",
        "        return True, -1\n",
        "    elif state[2] == state[5] == state[8] == 'O':\n",
        "        return True, -1\n",
        "    elif state[0] == state[4] == state[8] == 'O':\n",
        "        return True, -1\n",
        "    elif state[2] == state[4] == state[6] == 'O':\n",
        "        return True, -1\n",
        "    elif state.count('-') == 0:\n",
        "        return True, 0\n",
        "    else:\n",
        "        return False, 0"
      ]
    },
    {
      "cell_type": "code",
      "execution_count": 6,
      "metadata": {
        "id": "IyvrgX-u8q0m"
      },
      "outputs": [],
      "source": [
        "tree = {}\n",
        "terminal = []\n",
        "child_parent = {}\n",
        "Scores = {}\n",
        "def create_tree(state = ['-']*9):\n",
        "    \"\"\"\n",
        "    This will create a tree corresponding to every move.\n",
        "    Here total number of unique tree is 5478.\n",
        "    \"\"\"\n",
        "    global tree\n",
        "    string_of_state = list_to_string(state)\n",
        "    tree[string_of_state] = []\n",
        "    turn = player_turn(state)\n",
        "\n",
        "    if not is_terminal(state)[0]:\n",
        "\n",
        "        for i in range(9):\n",
        "            state_copy = state.copy()\n",
        "            if state[i] == '-':\n",
        "                state_copy[i] = turn\n",
        "                state_copy_string = list_to_string(state_copy)\n",
        "                tree[string_of_state].append(state_copy_string)\n",
        "\n",
        "                if state_copy_string not in child_parent.keys():\n",
        "                    child_parent[state_copy_string] = []\n",
        "\n",
        "                score = is_terminal(state_copy_string)[1]\n",
        "                Scores[state_copy_string]=score\n",
        "\n",
        "                if string_of_state not in child_parent[state_copy_string]:\n",
        "                    child_parent[state_copy_string].append(string_of_state)\n",
        "\n",
        "                create_tree(state_copy)\n",
        "    else:\n",
        "        if string_of_state not in terminal:\n",
        "            terminal.append(string_of_state)\n",
        "\n",
        "create_tree()\n",
        "child_parent['---------']=[None]\n",
        "Scores['---------'] = 0"
      ]
    },
    {
      "cell_type": "code",
      "execution_count": 7,
      "metadata": {
        "id": "bj66Enxg8q0n"
      },
      "outputs": [],
      "source": [
        "alpha = 0.31\n",
        "def update_helper(i):\n",
        "    \n",
        "    \"\"\" This function will help in updating the value of min and max \n",
        "    using update_values function which is given below.\"\"\"\n",
        "\n",
        "    global alpha\n",
        "    parents = child_parent[i]\n",
        "    t1 = Scores[i]\n",
        "    if parents[0] is not None:\n",
        "        for j in parents:\n",
        "            t2 = Scores[j]\n",
        "            updated_value = t2 + alpha * (t1 - t2)\n",
        "            Scores[j] = updated_value\n",
        "            update_helper(j)\n",
        "\n",
        "def update_value():\n",
        "    \"\"\"This will update the value of the min-max by calling update_helper\"\"\"\n",
        "    for i in terminal*150:\n",
        "        update_helper(i)\n",
        "\n",
        "update_value()"
      ]
    },
    {
      "cell_type": "code",
      "execution_count": 8,
      "metadata": {
        "id": "hZYQzK2r8q0n"
      },
      "outputs": [],
      "source": [
        "def position_for_move(state, action):\n",
        "    \"\"\"This function will return the position for next move\"\"\"\n",
        "    for i in range(9):\n",
        "        if state[i] == '-' and action[i] != '-':\n",
        "            return i\n",
        "\n",
        "def best_move(state, player):\n",
        "    \"\"\"This function will find the best move for player\"\"\"\n",
        "    state = list_to_string(state)\n",
        "    children = tree[state]\n",
        "    score_dict = {}\n",
        "    \n",
        "    for i in children:\n",
        "        score_dict[Scores[i]] = i\n",
        "\n",
        "    score = min(score_dict.keys())\n",
        "\n",
        "    return position_for_move(state, score_dict[score])"
      ]
    },
    {
      "cell_type": "code",
      "execution_count": 9,
      "metadata": {
        "id": "PCLJQMK18q0o"
      },
      "outputs": [],
      "source": [
        "def display(state):\n",
        "    \"\"\" This will display the board of the game at any point of time.\"\"\"\n",
        "    print('-------------------')\n",
        "    print('| ',state[0],' | ',state[1],' | ',state[2],' |')\n",
        "    print('-------------------')\n",
        "    print('| ',state[3],' | ',state[4],' | ',state[5],' |')\n",
        "    print('-------------------')\n",
        "    print('| ',state[6],' | ',state[7],' | ',state[8],' |')\n",
        "    print('-------------------')"
      ]
    },
    {
      "cell_type": "code",
      "execution_count": 10,
      "metadata": {
        "id": "BypYYk-h8q0o"
      },
      "outputs": [],
      "source": [
        "def play_game():\n",
        "    \"\"\" This is the main function to play the game.\"\"\"\n",
        "    state = ['-']*9\n",
        "    display(state)\n",
        "    player = 0\n",
        "    while not is_terminal(state)[0]:\n",
        "        if player % 2 == 0:\n",
        "            index = int(input(\"Enter a postion (0, 8):- \"))\n",
        "            state[index] = 'X'\n",
        "        else:\n",
        "            index = best_move(state, player)\n",
        "            state[index]='O'\n",
        "\n",
        "        display(state)\n",
        "        player += 1\n",
        "        terminal = is_terminal(state)\n",
        "\n",
        "        if terminal[1] == -1:\n",
        "            return 'Computer won'\n",
        "        elif terminal[1] == 1:\n",
        "            return 'You won'\n",
        "        elif terminal[0] and terminal[1] == 0:\n",
        "            return 'Match draw'"
      ]
    },
    {
      "cell_type": "code",
      "execution_count": 11,
      "metadata": {
        "id": "OC0Y--0X8q0o"
      },
      "outputs": [
        {
          "name": "stdout",
          "output_type": "stream",
          "text": [
            "-------------------\n",
            "|  -  |  -  |  -  |\n",
            "-------------------\n",
            "|  -  |  -  |  -  |\n",
            "-------------------\n",
            "|  -  |  -  |  -  |\n",
            "-------------------\n",
            "-------------------\n",
            "|  -  |  X  |  -  |\n",
            "-------------------\n",
            "|  -  |  -  |  -  |\n",
            "-------------------\n",
            "|  -  |  -  |  -  |\n",
            "-------------------\n",
            "-------------------\n",
            "|  -  |  X  |  -  |\n",
            "-------------------\n",
            "|  -  |  -  |  -  |\n",
            "-------------------\n",
            "|  -  |  O  |  -  |\n",
            "-------------------\n",
            "-------------------\n",
            "|  X  |  X  |  -  |\n",
            "-------------------\n",
            "|  -  |  -  |  -  |\n",
            "-------------------\n",
            "|  -  |  O  |  -  |\n",
            "-------------------\n",
            "-------------------\n",
            "|  X  |  X  |  O  |\n",
            "-------------------\n",
            "|  -  |  -  |  -  |\n",
            "-------------------\n",
            "|  -  |  O  |  -  |\n",
            "-------------------\n",
            "-------------------\n",
            "|  X  |  X  |  O  |\n",
            "-------------------\n",
            "|  -  |  -  |  -  |\n",
            "-------------------\n",
            "|  X  |  O  |  -  |\n",
            "-------------------\n",
            "-------------------\n",
            "|  X  |  X  |  O  |\n",
            "-------------------\n",
            "|  O  |  -  |  -  |\n",
            "-------------------\n",
            "|  X  |  O  |  -  |\n",
            "-------------------\n",
            "-------------------\n",
            "|  X  |  X  |  O  |\n",
            "-------------------\n",
            "|  O  |  -  |  -  |\n",
            "-------------------\n",
            "|  X  |  O  |  X  |\n",
            "-------------------\n",
            "-------------------\n",
            "|  X  |  X  |  O  |\n",
            "-------------------\n",
            "|  O  |  O  |  -  |\n",
            "-------------------\n",
            "|  X  |  O  |  X  |\n",
            "-------------------\n",
            "-------------------\n",
            "|  X  |  X  |  O  |\n",
            "-------------------\n",
            "|  O  |  O  |  X  |\n",
            "-------------------\n",
            "|  X  |  O  |  X  |\n",
            "-------------------\n"
          ]
        },
        {
          "data": {
            "text/plain": [
              "'Match draw'"
            ]
          },
          "execution_count": 11,
          "metadata": {},
          "output_type": "execute_result"
        }
      ],
      "source": [
        "play_game()"
      ]
    }
  ],
  "metadata": {
    "colab": {
      "provenance": []
    },
    "kaggle": {
      "accelerator": "none",
      "dataSources": [],
      "dockerImageVersionId": 30587,
      "isGpuEnabled": false,
      "isInternetEnabled": false,
      "language": "python",
      "sourceType": "notebook"
    },
    "kernelspec": {
      "display_name": "Python 3",
      "language": "python",
      "name": "python3"
    },
    "language_info": {
      "codemirror_mode": {
        "name": "ipython",
        "version": 3
      },
      "file_extension": ".py",
      "mimetype": "text/x-python",
      "name": "python",
      "nbconvert_exporter": "python",
      "pygments_lexer": "ipython3",
      "version": "3.12.0"
    }
  },
  "nbformat": 4,
  "nbformat_minor": 0
}
