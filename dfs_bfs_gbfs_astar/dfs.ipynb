{
 "cells": [
  {
   "cell_type": "markdown",
   "id": "9a50d6d0",
   "metadata": {},
   "source": [
    "# Artificial intelligence Tutorial On Graph (DFS) In Python."
   ]
  },
  {
   "cell_type": "code",
   "execution_count": 47,
   "id": "a8f785cb",
   "metadata": {},
   "outputs": [],
   "source": [
    "# 1. Write the code for BFS and DFS in three stages:\n",
    "    # a. Full graph traversal.\n",
    "    # b. Stop on reaching the target node.\n",
    "    # c. Store and print the path from start to target node."
   ]
  },
  {
   "cell_type": "markdown",
   "id": "a2e9ca14",
   "metadata": {},
   "source": [
    "![Alt text](image.png)"
   ]
  },
  {
   "cell_type": "code",
   "execution_count": 48,
   "id": "811233d4",
   "metadata": {},
   "outputs": [],
   "source": [
    "# Adjacency list of the above graph.\n",
    "adjacency_list = {'Karlsruhe': ['Augsburg', 'Mannheim'],'Mannheim':['Karlsruhe', 'Frankfurt'],'Augsburg': ['Karlsruhe'], 'Würzburg': ['Nümberg', 'Erfurt', 'Frankfurt'], 'Kassel': ['München', 'Frankfurt'], 'München': ['Kassel'], 'Nümberg':['Stuttgart', 'Würzburg'], 'Erfurt':['Würzburg'],'Stuttgart':['Nümberg'], 'Frankfurt':['Mannheim', 'Würzburg', 'Kassel']}"
   ]
  },
  {
   "cell_type": "code",
   "execution_count": 49,
   "id": "c23ba0ae",
   "metadata": {},
   "outputs": [
    {
     "name": "stdout",
     "output_type": "stream",
     "text": [
      "Frankfurt, Mannheim, Karlsruhe, Augsburg, Würzburg, Nümberg, Stuttgart, Erfurt, Kassel, München, "
     ]
    }
   ],
   "source": [
    "# a. Full graph traversal input is only node 1.\n",
    "\n",
    "visited_list = []\n",
    "\n",
    "def dfs_a(node1):\n",
    "    if node1 not in visited_list:\n",
    "        print(node1, end=\", \")\n",
    "        visited_list.append(node1)\n",
    "        for i in adjacency_list[node1]:\n",
    "            dfs_a(i)\n",
    "\n",
    "dfs_a('Frankfurt')\n",
    "# dfs_a('Mannheim')\n",
    "# print(visited_list)"
   ]
  },
  {
   "cell_type": "code",
   "execution_count": 50,
   "id": "fce23b09",
   "metadata": {},
   "outputs": [
    {
     "name": "stdout",
     "output_type": "stream",
     "text": [
      "Frankfurt, Mannheim, Karlsruhe, Augsburg, Würzburg, Nümberg, Stuttgart, Erfurt, "
     ]
    }
   ],
   "source": [
    "# b. Stop on reaching the target node(input is node1 and node2, stop traversing when node2 is found).\n",
    "visited_list = []\n",
    "\n",
    "def dfs_b(node1, target_node):\n",
    "\n",
    "    if target_node in visited_list:\n",
    "        return\n",
    "\n",
    "    if node1 not in visited_list:\n",
    "        print(node1, end = \", \")\n",
    "        visited_list.append(node1)\n",
    "        for i in adjacency_list[node1]:\n",
    "            dfs_b(i, target_node)\n",
    "\n",
    "dfs_b('Frankfurt', 'Erfurt')\n",
    "# print(visited_list)"
   ]
  },
  {
   "cell_type": "code",
   "execution_count": 51,
   "id": "5daeb951",
   "metadata": {},
   "outputs": [],
   "source": [
    "# b. Stop on reaching the target node.\n",
    "\n",
    "visited_lst = []\n",
    "path_lst = []\n",
    "def dfs_path_finder(node, node2, path=[]):\n",
    "    \n",
    "    if node2 in visited_lst:\n",
    "        return\n",
    "\n",
    "    # Check if the current node has not been visited yet.\n",
    "    if node not in visited_lst:\n",
    "        # Print the current node as it's being visited.\n",
    "        # print(node, end=\", \")\n",
    "\n",
    "        # Mark the current node as visited and add it to the path.\n",
    "        visited_lst.append(node)\n",
    "        path.append(node)\n",
    "\n",
    "        # If we have reached the destination node, add the current path to the list of found paths.\n",
    "        if node == node2:\n",
    "            path_lst.append(path.copy())\n",
    "            return\n",
    "\n",
    "        # Recursively explore the connected nodes.\n",
    "        for neighbor in adjacency_list[node]:\n",
    "            dfs_path_finder(neighbor, node2, path)\n",
    "\n",
    "        # Backtrack by removing the last node from the path.\n",
    "        path.pop()\n",
    "\n",
    "# dfs_path_finder('Augsburg', 'Erfurt')\n",
    "# print(f\"Paths from {'Augsburg'} to {'Erfurt'}:\", \" -> \".join(path_lst[0]))"
   ]
  },
  {
   "cell_type": "markdown",
   "id": "46c16c58",
   "metadata": {},
   "source": [
    "**A helper function to create a adjacency list from an adjacency matrix.**"
   ]
  },
  {
   "cell_type": "code",
   "execution_count": 52,
   "id": "3f5fd9c5",
   "metadata": {},
   "outputs": [
    {
     "name": "stdout",
     "output_type": "stream",
     "text": [
      "adjacency_list : {0: [1, 2], 1: [0, 3, 4], 2: [0, 4], 3: [1], 4: [1, 2]}\n"
     ]
    }
   ],
   "source": [
    "# A helper function to create a adjacency list from an adjacency matrix.\n",
    "\n",
    "def create_adjacency_list(adjacency_matrix):\n",
    "  # A dictionary to store the graph as an adjacency list\n",
    "  adjacency_list = {}\n",
    "\n",
    "  # Loop through the matrix and add edges to the adjacency list\n",
    "  for i in range(len(adjacency_matrix)):\n",
    "    adjacency_list[i] = []\n",
    "    for j in range(len(adjacency_matrix[i])):\n",
    "      if adjacency_matrix[i][j] == 1:\n",
    "        adjacency_list[i].append(j)\n",
    "\n",
    "  # Return the adjacency list\n",
    "  return adjacency_list\n",
    "\n",
    "# An adjacency matrix representing a graph\n",
    "adjacency_matrix = [\n",
    "  [0, 1, 1, 0, 0],\n",
    "  [1, 0, 0, 1, 1],\n",
    "  [1, 0, 0, 0, 1],\n",
    "  [0, 1, 0, 0, 0],\n",
    "  [0, 1, 1, 0, 0]\n",
    "]\n",
    "\n",
    "# Create a adjacency_list from the adjacency matrix.\n",
    "print(\"adjacency_list :\",create_adjacency_list(adjacency_matrix))"
   ]
  },
  {
   "cell_type": "markdown",
   "id": "d2c2be1c",
   "metadata": {},
   "source": [
    "# DFS Analysis With Connected Graph"
   ]
  },
  {
   "cell_type": "markdown",
   "id": "6ecb33af",
   "metadata": {},
   "source": [
    "**Code to convert csv file to adjecency list**"
   ]
  },
  {
   "cell_type": "code",
   "execution_count": 53,
   "id": "d3d4b577",
   "metadata": {},
   "outputs": [],
   "source": [
    "# x=open('CityGraph/random_connected_graph.csv')\n",
    "import csv\n",
    "\n",
    "def create_adjacency_list(filename):\n",
    "    adjacency_list = {}\n",
    "    node_name_to_id = {}  # Map node names to unique IDs\n",
    "    next_id = 1  # Start from 1 to avoid conflicts with integer IDs\n",
    "\n",
    "    with open(filename, 'r') as csvfile:\n",
    "        csv_reader = csv.reader(csvfile)\n",
    "        next(csv_reader)  # Skip header\n",
    "\n",
    "        for row in csv_reader:\n",
    "            node1_name, node2_name = row[0], row[1]\n",
    "\n",
    "            # Assign unique IDs to nodes\n",
    "            node1_id = node_name_to_id.setdefault(node1_name, next_id)\n",
    "            if node1_id == next_id:\n",
    "                next_id += 1\n",
    "\n",
    "            node2_id = node_name_to_id.setdefault(node2_name, next_id)\n",
    "            if node2_id == next_id:\n",
    "                next_id += 1\n",
    "\n",
    "            # Add node2 to the adjacency list of node1\n",
    "            adjacency_list.setdefault(node1_id, []).append(node2_id)\n",
    "\n",
    "            # Add node1 to the adjacency list of node2 (assuming it's an undirected graph)\n",
    "            adjacency_list.setdefault(node2_id, []).append(node1_id)\n",
    "\n",
    "    return adjacency_list\n",
    "\n",
    "# Example usage\n",
    "csv_filename = 'CityGraph/random_connected_graph.csv'  # Replace with your CSV file name\n",
    "adj_list = create_adjacency_list(csv_filename)\n",
    "\n",
    "# # Print the adjacency list\n",
    "# for node, neighbors in adj_list.items():\n",
    "#     print(f'Node {node}: {neighbors}')"
   ]
  },
  {
   "cell_type": "code",
   "execution_count": 54,
   "id": "0d009642",
   "metadata": {},
   "outputs": [],
   "source": [
    "import csv\n",
    "\n",
    "def create_adjacency_list(filename):\n",
    "    adjacency_list = {}\n",
    "    node_name_to_id = {}  # Map node names to unique IDs\n",
    "    next_id = 1  # Start from 1 to avoid conflicts with integer IDs\n",
    "\n",
    "    with open(filename, 'r') as csvfile:\n",
    "        csv_reader = csv.reader(csvfile)\n",
    "        next(csv_reader)  # Skip header\n",
    "\n",
    "        for row in csv_reader:\n",
    "            node1_name, node2_name = row[0], row[1]\n",
    "\n",
    "            # Assign unique IDs to nodes\n",
    "            node1_id = node_name_to_id.setdefault(node1_name, next_id)\n",
    "            if node1_id == next_id:\n",
    "                next_id += 1\n",
    "\n",
    "            node2_id = node_name_to_id.setdefault(node2_name, next_id)\n",
    "            if node2_id == next_id:\n",
    "                next_id += 1\n",
    "\n",
    "            # Add node2 to the adjacency list of node1\n",
    "            adjacency_list.setdefault(node1_id, []).append(node2_id)\n",
    "\n",
    "            # Add node1 to the adjacency list of node2 (assuming it's an undirected graph)\n",
    "            adjacency_list.setdefault(node2_id, []).append(node1_id)\n",
    "\n",
    "    # Create a reverse mapping: node_id to node_name\n",
    "    id_to_node_name = {v: k for k, v in node_name_to_id.items()}\n",
    "    \n",
    "    # Convert node IDs to node names in the adjacency list\n",
    "    adjacency_list_with_names = {}\n",
    "    for node_id, neighbors in adjacency_list.items():\n",
    "        node_name = id_to_node_name.get(node_id, f'Node{node_id}')  # Default to 'NodeX' if not found\n",
    "        neighbor_names = [id_to_node_name.get(neighbor, f'Node{neighbor}') for neighbor in neighbors]\n",
    "        adjacency_list_with_names[node_name] = neighbor_names\n",
    "\n",
    "    return adjacency_list_with_names\n",
    "\n",
    "# Example usage\n",
    "csv_filename = 'CityGraph/random_connected_graph.csv'  # Replace with your CSV file name\n",
    "adj_list_with_names = create_adjacency_list(csv_filename)\n",
    "\n",
    "# # Print the adjacency list with node names\n",
    "# for node, neighbors in adj_list_with_names.items():\n",
    "#     print(f'{node}: {neighbors}')"
   ]
  },
  {
   "cell_type": "code",
   "execution_count": 55,
   "id": "f32985b3",
   "metadata": {},
   "outputs": [
    {
     "name": "stdout",
     "output_type": "stream",
     "text": [
      "Total number of nodes in graph : 45\n"
     ]
    }
   ],
   "source": [
    "print(\"Total number of nodes in graph :\", len(adj_list_with_names))\n",
    "# for i in adj_list_with_names:\n",
    "#     print(f\"{i} :\", len(adj_list_with_names[i]))"
   ]
  },
  {
   "cell_type": "markdown",
   "id": "91cd1d4c",
   "metadata": {},
   "source": [
    "**I am taking the following 5 pairs of node : ('Sitamarhi', 'Lucknow'), ('Sitamarhi', 'Delhi'), ('Lucknow', 'Mirzapur'), ('Kota', 'Patna'), ('Gaya', 'Calicut')**"
   ]
  },
  {
   "cell_type": "code",
   "execution_count": 56,
   "id": "588af49e",
   "metadata": {},
   "outputs": [
    {
     "name": "stdout",
     "output_type": "stream",
     "text": [
      "142 ns ± 7.12 ns per loop (mean ± std. dev. of 7 runs, 10,000,000 loops each)\n",
      "112\n",
      "Length of path from Sitamarhi to Lucknow is :7 ,and path list is :  ['Sitamarhi', 'Agra', 'Raebareli', 'Araria', 'Rajsamand', 'Arrah', 'Lucknow']\n",
      "271 ns ± 10.7 ns per loop (mean ± std. dev. of 7 runs, 1,000,000 loops each)\n",
      "288\n",
      "Length of path from Sitamarhi to Delhi is :29 ,and path list is :  ['Sitamarhi', 'Agra', 'Raebareli', 'Araria', 'Rajsamand', 'Arrah', 'Lucknow', 'Aligarh', 'Kota', 'Baghpat', 'Gaya', 'Balaghat', 'Prayagraj', 'Belagavi', 'Patna', 'Bhopal', 'Bhagalpur', 'Sikar', 'Bikaner', 'Una', 'Calicut', 'Bundi', 'Madhepura', 'Daudnagar', 'Lakhimpur', 'Chitrakoot', 'Sarangarh', 'Durgapur', 'Delhi']\n",
      "357 ns ± 15.8 ns per loop (mean ± std. dev. of 7 runs, 1,000,000 loops each)\n",
      "376\n",
      "Length of path from Lucknow to Mirzapur is :40 ,and path list is :  ['Lucknow', 'Aligarh', 'Kota', 'Araria', 'Agra', 'Raebareli', 'Baghpat', 'Arrah', 'Rajsamand', 'Balaghat', 'Gaya', 'Belagavi', 'Patna', 'Bhopal', 'Bhagalpur', 'Sikar', 'Bikaner', 'Prayagraj', 'Bundi', 'Madhepura', 'Calicut', 'Una', 'Daudnagar', 'Lakhimpur', 'Chitrakoot', 'Sarangarh', 'Durgapur', 'Delhi', 'Hanamkonda', 'Faridabad', 'Sitamarhi', 'Ghazipur', 'Morena', 'Jaipur', 'Sitapur', 'Jehanabad', 'Jodhpur', 'Pakur', 'Sagar', 'Mirzapur']\n",
      "186 ns ± 9.08 ns per loop (mean ± std. dev. of 7 runs, 10,000,000 loops each)\n",
      "160\n",
      "Length of path from Kota to Patna is :13 ,and path list is :  ['Kota', 'Aligarh', 'Lucknow', 'Arrah', 'Araria', 'Agra', 'Raebareli', 'Baghpat', 'Rajsamand', 'Balaghat', 'Gaya', 'Belagavi', 'Patna']\n",
      "238 ns ± 7.68 ns per loop (mean ± std. dev. of 7 runs, 1,000,000 loops each)\n",
      "232\n",
      "Length of path from Gaya to Calicut is :22 ,and path list is :  ['Gaya', 'Agra', 'Raebareli', 'Araria', 'Rajsamand', 'Arrah', 'Lucknow', 'Aligarh', 'Kota', 'Baghpat', 'Sikar', 'Belagavi', 'Patna', 'Bhopal', 'Balaghat', 'Prayagraj', 'Bhagalpur', 'Una', 'Bikaner', 'Bundi', 'Madhepura', 'Calicut']\n"
     ]
    }
   ],
   "source": [
    "import sys\n",
    "adjacency_list = adj_list_with_names\n",
    "node_pair = [('Sitamarhi', 'Lucknow'), ('Sitamarhi', 'Delhi'), ('Lucknow', 'Mirzapur'), ('Kota', 'Patna'), ('Gaya', 'Calicut')]\n",
    "for i in node_pair:\n",
    "    visited_lst = []\n",
    "    path_lst = []\n",
    "    %timeit dfs_path_finder(i[0], i[1], path=[])\n",
    "    dfs_path_finder(i[0], i[1], path=[])\n",
    "    print(sys.getsizeof(path_lst[0]))\n",
    "    print(f\"Length of path from {i[0]} to {i[1]} is :{len(path_lst[0])} ,and path list is : \", path_lst[0])"
   ]
  },
  {
   "cell_type": "code",
   "execution_count": 58,
   "metadata": {},
   "outputs": [],
   "source": [
    "%history -f filename.ipynb"
   ]
  }
 ],
 "metadata": {
  "kernelspec": {
   "display_name": "Python 3 (ipykernel)",
   "language": "python",
   "name": "python3"
  },
  "language_info": {
   "codemirror_mode": {
    "name": "ipython",
    "version": 3
   },
   "file_extension": ".py",
   "mimetype": "text/x-python",
   "name": "python",
   "nbconvert_exporter": "python",
   "pygments_lexer": "ipython3",
   "version": "3.12.0"
  }
 },
 "nbformat": 4,
 "nbformat_minor": 5
}
