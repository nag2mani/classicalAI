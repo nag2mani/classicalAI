{
 "cells": [
  {
   "cell_type": "markdown",
   "id": "b7c0a415",
   "metadata": {},
   "source": [
    "# Artificial intelligence Tutorial On Graph (BFS) In Python."
   ]
  },
  {
   "cell_type": "code",
   "execution_count": 27,
   "id": "7a434605",
   "metadata": {},
   "outputs": [],
   "source": [
    "# 1. Write the code for BFS and DFS in three stages:\n",
    "    # a. Full graph traversal.\n",
    "    # b. Stop on reaching the target node.\n",
    "    # c. Store and print the path from start to target node."
   ]
  },
  {
   "cell_type": "markdown",
   "id": "04e7a49b",
   "metadata": {},
   "source": [
    "![Alt text](image.png)"
   ]
  },
  {
   "cell_type": "code",
   "execution_count": 28,
   "id": "8b31dc5e",
   "metadata": {},
   "outputs": [],
   "source": [
    "# Adjacency list of the above graph.\n",
    "adjacency_list = {'Karlsruhe': ['Augsburg', 'Mannheim'],'Mannheim':['Karlsruhe', 'Frankfurt'],'Augsburg': ['Karlsruhe'], 'Würzburg': ['Nümberg', 'Erfurt', 'Frankfurt'], 'Kassel': ['München', 'Frankfurt'], 'München': ['Kassel'], 'Nümberg':['Stuttgart', 'Würzburg'], 'Erfurt':['Würzburg'],'Stuttgart':['Nümberg'], 'Frankfurt':['Mannheim', 'Würzburg', 'Kassel']}"
   ]
  },
  {
   "cell_type": "code",
   "execution_count": 29,
   "id": "ff192e97",
   "metadata": {},
   "outputs": [
    {
     "name": "stdout",
     "output_type": "stream",
     "text": [
      "Frankfurt, Mannheim, Würzburg, Kassel, Karlsruhe, Nümberg, Erfurt, München, Augsburg, Stuttgart, "
     ]
    }
   ],
   "source": [
    "# a. Full graph traversal input is only node 1.(Method 1)\n",
    "\n",
    "def bfs_a(node1):\n",
    "    # A set to store the visited nodes and Mark the node1 as visited.\n",
    "    visited_node = {node1}\n",
    "    # A queue to store the nodes that need to be visited (first in first out).\n",
    "    queue = [node1]\n",
    "    # Loop until the queue is empty.\n",
    "    while queue:\n",
    "        # Dequeue the front node and print it.\n",
    "        node = queue.pop(0)\n",
    "        print(node, end=\", \")\n",
    "        # Enqueue the unvisited adjacent nodes of the current node.\n",
    "        for neighbor in adjacency_list[node]:\n",
    "            if neighbor not in visited_node:\n",
    "                visited_node.add(neighbor)\n",
    "                queue.append(neighbor)\n",
    "\n",
    "bfs_a('Frankfurt')\n",
    "# bfs_a('Kassel')"
   ]
  },
  {
   "cell_type": "code",
   "execution_count": 30,
   "id": "c3a08ab9",
   "metadata": {},
   "outputs": [
    {
     "name": "stdout",
     "output_type": "stream",
     "text": [
      "Frankfurt, Mannheim, Würzburg, Kassel, Karlsruhe, Nümberg, Erfurt, München, Augsburg, Stuttgart, "
     ]
    }
   ],
   "source": [
    "# a. Full graph traversal input is only node 1.(Method 2) (Using recursion).\n",
    "\n",
    "visited_node1 = []\n",
    "queue1 = []\n",
    "def bfs(node):\n",
    "    global visited_node1,queue1\n",
    "\n",
    "    if node not in visited_node1:\n",
    "        print(node, end=\", \")\n",
    "        visited_node1.append(node)\n",
    "        queue1+=adjacency_list[node]\n",
    "        new_node = queue1.pop(0)\n",
    "        bfs(new_node)\n",
    "\n",
    "    elif len(queue1)>0:\n",
    "        new_node=queue1.pop(0)\n",
    "        bfs(new_node)\n",
    "\n",
    "bfs('Frankfurt')\n",
    "# bfs('Kassel')"
   ]
  },
  {
   "cell_type": "code",
   "execution_count": 31,
   "id": "52c797d3",
   "metadata": {},
   "outputs": [
    {
     "name": "stdout",
     "output_type": "stream",
     "text": [
      "Frankfurt, Mannheim, Würzburg, Kassel, Karlsruhe, Nümberg, "
     ]
    }
   ],
   "source": [
    "# b. Stop on reaching the target node.\n",
    "\n",
    "var = True\n",
    "visited_node2 = []\n",
    "queue2 = []\n",
    "def bfs_b(start_node,target_node):\n",
    "    global visited_node2,queue2,var\n",
    "    if var:\n",
    "        if start_node == target_node:\n",
    "            var = False\n",
    "        else:\n",
    "            if start_node not in visited_node2:\n",
    "                print(start_node, end = \", \")\n",
    "                visited_node2.append(start_node)\n",
    "                queue2 += adjacency_list[start_node]\n",
    "                new_node = queue2.pop(0)\n",
    "                bfs_b(new_node,target_node)\n",
    "            elif len(queue2) > 0:\n",
    "                new_node = queue2.pop(0)\n",
    "                bfs_b(new_node, target_node)\n",
    "\n",
    "bfs_b('Frankfurt', 'Erfurt')"
   ]
  },
  {
   "cell_type": "code",
   "execution_count": 32,
   "id": "d8a1c45f",
   "metadata": {},
   "outputs": [
    {
     "name": "stdout",
     "output_type": "stream",
     "text": [
      "Paths from München to Karlsruhe: München -> Kassel -> Frankfurt -> Mannheim -> Karlsruhe\n"
     ]
    }
   ],
   "source": [
    "# c. Store and print the path from start to target node.\n",
    "\n",
    "visited_lst = []\n",
    "queue_lst = []\n",
    "\n",
    "def bfs_path_finder(node, node2, parent_dict):\n",
    "    global visited_lst, queue_lst\n",
    "    # print(parent_dict)\n",
    "    if node2 in visited_lst:\n",
    "        return construct_path(parent_dict, node, node2)\n",
    "    if node not in visited_lst:\n",
    "        visited_lst.append(node)\n",
    "        queue_lst.append(node)\n",
    "        for neighbor in adjacency_list[node]:\n",
    "            if neighbor not in visited_lst:\n",
    "                parent_dict[neighbor] = node\n",
    "                queue_lst.append(neighbor)\n",
    "    if queue_lst:\n",
    "        next_node = queue_lst.pop(0)\n",
    "        return bfs_path_finder(next_node, node2, parent_dict)\n",
    "    return []\n",
    "\n",
    "def construct_path(parent_dict, start, end):\n",
    "    path = [end]\n",
    "    while end != start:\n",
    "        end = parent_dict[end]\n",
    "        if end is None:\n",
    "            break\n",
    "        path.append(end)\n",
    "    return path[::-1]\n",
    "\n",
    "start_node = 'München'\n",
    "end_node = 'Karlsruhe'\n",
    "parent_dict = {start_node: None}\n",
    "path = bfs_path_finder(start_node, end_node, parent_dict)\n",
    "\n",
    "print(f\"Paths from {start_node} to {end_node}:\", \" -> \".join(path))\n"
   ]
  },
  {
   "cell_type": "markdown",
   "id": "49dc4152",
   "metadata": {},
   "source": [
    "# BFS Analysis With Connected Graph"
   ]
  },
  {
   "cell_type": "markdown",
   "id": "311764da",
   "metadata": {},
   "source": [
    "**Code to convert csv file to adjecency list**"
   ]
  },
  {
   "cell_type": "code",
   "execution_count": 33,
   "id": "27a2edc5",
   "metadata": {},
   "outputs": [],
   "source": [
    "# x=open('CityGraph/random_connected_graph.csv')\n",
    "import csv\n",
    "\n",
    "def create_adjacency_list(filename):\n",
    "    adjacency_list = {}\n",
    "    node_name_to_id = {}  # Map node names to unique IDs\n",
    "    next_id = 1  # Start from 1 to avoid conflicts with integer IDs\n",
    "\n",
    "    with open(filename, 'r') as csvfile:\n",
    "        csv_reader = csv.reader(csvfile)\n",
    "        next(csv_reader)  # Skip header\n",
    "\n",
    "        for row in csv_reader:\n",
    "            node1_name, node2_name = row[0], row[1]\n",
    "\n",
    "            # Assign unique IDs to nodes\n",
    "            node1_id = node_name_to_id.setdefault(node1_name, next_id)\n",
    "            if node1_id == next_id:\n",
    "                next_id += 1\n",
    "\n",
    "            node2_id = node_name_to_id.setdefault(node2_name, next_id)\n",
    "            if node2_id == next_id:\n",
    "                next_id += 1\n",
    "\n",
    "            # Add node2 to the adjacency list of node1\n",
    "            adjacency_list.setdefault(node1_id, []).append(node2_id)\n",
    "\n",
    "            # Add node1 to the adjacency list of node2 (assuming it's an undirected graph)\n",
    "            adjacency_list.setdefault(node2_id, []).append(node1_id)\n",
    "\n",
    "    return adjacency_list\n",
    "\n",
    "# Example usage\n",
    "csv_filename = 'CityGraph/random_connected_graph.csv'  # Replace with your CSV file name\n",
    "adj_list = create_adjacency_list(csv_filename)\n",
    "\n",
    "# # Print the adjacency list\n",
    "# for node, neighbors in adj_list.items():\n",
    "#     print(f'Node {node}: {neighbors}')"
   ]
  },
  {
   "cell_type": "code",
   "execution_count": 34,
   "id": "2b1b8309",
   "metadata": {},
   "outputs": [],
   "source": [
    "import csv\n",
    "\n",
    "def create_adjacency_list(filename):\n",
    "    adjacency_list = {}\n",
    "    node_name_to_id = {}  # Map node names to unique IDs\n",
    "    next_id = 1  # Start from 1 to avoid conflicts with integer IDs\n",
    "\n",
    "    with open(filename, 'r') as csvfile:\n",
    "        csv_reader = csv.reader(csvfile)\n",
    "        next(csv_reader)  # Skip header\n",
    "\n",
    "        for row in csv_reader:\n",
    "            node1_name, node2_name = row[0], row[1]\n",
    "\n",
    "            # Assign unique IDs to nodes\n",
    "            node1_id = node_name_to_id.setdefault(node1_name, next_id)\n",
    "            if node1_id == next_id:\n",
    "                next_id += 1\n",
    "\n",
    "            node2_id = node_name_to_id.setdefault(node2_name, next_id)\n",
    "            if node2_id == next_id:\n",
    "                next_id += 1\n",
    "\n",
    "            # Add node2 to the adjacency list of node1\n",
    "            adjacency_list.setdefault(node1_id, []).append(node2_id)\n",
    "\n",
    "            # Add node1 to the adjacency list of node2 (assuming it's an undirected graph)\n",
    "            adjacency_list.setdefault(node2_id, []).append(node1_id)\n",
    "\n",
    "    # Create a reverse mapping: node_id to node_name\n",
    "    id_to_node_name = {v: k for k, v in node_name_to_id.items()}\n",
    "    \n",
    "    # Convert node IDs to node names in the adjacency list\n",
    "    adjacency_list_with_names = {}\n",
    "    for node_id, neighbors in adjacency_list.items():\n",
    "        node_name = id_to_node_name.get(node_id, f'Node{node_id}')  # Default to 'NodeX' if not found\n",
    "        neighbor_names = [id_to_node_name.get(neighbor, f'Node{neighbor}') for neighbor in neighbors]\n",
    "        adjacency_list_with_names[node_name] = neighbor_names\n",
    "\n",
    "    return adjacency_list_with_names\n",
    "\n",
    "# Example usage\n",
    "csv_filename = 'CityGraph/random_connected_graph.csv'  # Replace with your CSV file name\n",
    "adj_list_with_names = create_adjacency_list(csv_filename)\n",
    "\n",
    "# # Print the adjacency list with node names\n",
    "# for node, neighbors in adj_list_with_names.items():\n",
    "#     print(f'{node}: {neighbors}')"
   ]
  },
  {
   "cell_type": "code",
   "execution_count": 35,
   "id": "592e31cd",
   "metadata": {},
   "outputs": [],
   "source": [
    "# print(\"Total number of nodes in graph :\", len(adj_list_with_names))\n",
    "# for i in adj_list_with_names:\n",
    "#     print(f\"{i} :\", len(adj_list_with_names[i]))"
   ]
  },
  {
   "cell_type": "code",
   "execution_count": 38,
   "id": "3de9c88f",
   "metadata": {},
   "outputs": [
    {
     "name": "stdout",
     "output_type": "stream",
     "text": [
      "2.1 µs ± 127 ns per loop (mean ± std. dev. of 7 runs, 100,000 loops each)\n",
      "288\n",
      "Length of path from Sitamarhi to Lucknow is :29 ,and path list is :  ['Sitamarhi', 'Agra', 'Araria', 'Belagavi', 'Bhagalpur', 'Bikaner', 'Bundi', 'Calicut', 'Faridabad', 'Gaya', 'Ghazipur', 'Jehanabad', 'Jodhpur', 'Madhepura', 'Mahoba', 'Nawada', 'Palamu', 'Rajsamand', 'Sagar', 'Bhopal', 'Sarangarh', 'Hanamkonda', 'Sitapur', 'Durgapur', 'Chitrakoot', 'Kota', 'Lakhimpur', 'Aligarh', 'Lucknow']\n",
      "777 ns ± 32.2 ns per loop (mean ± std. dev. of 7 runs, 1,000,000 loops each)\n",
      "128\n",
      "Length of path from Sitamarhi to Delhi is :9 ,and path list is :  ['Sitamarhi', 'Agra', 'Araria', 'Belagavi', 'Bhagalpur', 'Bikaner', 'Bundi', 'Daudnagar', 'Delhi']\n",
      "1.96 µs ± 60.1 ns per loop (mean ± std. dev. of 7 runs, 100,000 loops each)\n",
      "288\n",
      "Length of path from Lucknow to Mirzapur is :29 ,and path list is :  ['Lucknow', 'Aligarh', 'Belagavi', 'Bhagalpur', 'Bhopal', 'Bundi', 'Calicut', 'Faridabad', 'Gaya', 'Hanamkonda', 'Jaipur', 'Jodhpur', 'Kota', 'Lakhimpur', 'Raebareli', 'Patna', 'Sikar', 'Prayagraj', 'Una', 'Morena', 'Pakur', 'Sagar', 'Nawada', 'Rohtas', 'Palamu', 'Sri Ganganagar', 'Madhepura', 'Baghpat', 'Mirzapur']\n",
      "1.05 µs ± 56.6 ns per loop (mean ± std. dev. of 7 runs, 1,000,000 loops each)\n",
      "152\n",
      "Length of path from Kota to Patna is :12 ,and path list is :  ['Kota', 'Araria', 'Arrah', 'Baghpat', 'Belagavi', 'Calicut', 'Faridabad', 'Jehanabad', 'Jodhpur', 'Lucknow', 'Raebareli', 'Patna']\n",
      "788 ns ± 11.2 ns per loop (mean ± std. dev. of 7 runs, 1,000,000 loops each)\n",
      "128\n",
      "Length of path from Gaya to Calicut is :9 ,and path list is :  ['Gaya', 'Agra', 'Araria', 'Arrah', 'Baghpat', 'Belagavi', 'Bhagalpur', 'Bikaner', 'Calicut']\n"
     ]
    }
   ],
   "source": [
    "import sys\n",
    "\n",
    "adjacency_list = adj_list_with_names\n",
    "node_pair = [('Sitamarhi', 'Lucknow'), ('Sitamarhi', 'Delhi'), ('Lucknow', 'Mirzapur'), ('Kota', 'Patna'), ('Gaya', 'Calicut')]\n",
    "for i in node_pair:\n",
    "    var = True\n",
    "    visited_lst = []\n",
    "    queue_lst = []\n",
    "    parent_dict = {i[0]: None}\n",
    "    %timeit final_path = bfs_path_finder(i[0], i[1], parent_dict)\n",
    "    final_path = bfs_path_finder(i[0], i[1], parent_dict)\n",
    "    print(sys.getsizeof(final_path))\n",
    "    print(f\"Length of path from {i[0]} to {i[1]} is :{len(final_path)} ,and path list is : \", final_path)\n"
   ]
  },
  {
   "cell_type": "code",
   "execution_count": null,
   "metadata": {},
   "outputs": [],
   "source": []
  }
 ],
 "metadata": {
  "kernelspec": {
   "display_name": "Python 3 (ipykernel)",
   "language": "python",
   "name": "python3"
  },
  "language_info": {
   "codemirror_mode": {
    "name": "ipython",
    "version": 3
   },
   "file_extension": ".py",
   "mimetype": "text/x-python",
   "name": "python",
   "nbconvert_exporter": "python",
   "pygments_lexer": "ipython3",
   "version": "3.12.0"
  }
 },
 "nbformat": 4,
 "nbformat_minor": 5
}
